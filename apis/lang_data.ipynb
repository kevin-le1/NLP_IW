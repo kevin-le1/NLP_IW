{
 "cells": [
  {
   "cell_type": "code",
   "execution_count": 10,
   "metadata": {},
   "outputs": [
    {
     "name": "stderr",
     "output_type": "stream",
     "text": [
      "279.36s - pydevd: Sending message related to process being replaced timed-out after 5 seconds\n"
     ]
    },
    {
     "name": "stdout",
     "output_type": "stream",
     "text": [
      "Requirement already satisfied: datasets in /Users/kevin/Desktop/NLP_IW/venv/lib/python3.12/site-packages (3.0.0)\n",
      "Requirement already satisfied: filelock in /Users/kevin/Desktop/NLP_IW/venv/lib/python3.12/site-packages (from datasets) (3.16.0)\n",
      "Requirement already satisfied: numpy>=1.17 in /Users/kevin/Desktop/NLP_IW/venv/lib/python3.12/site-packages (from datasets) (2.0.2)\n",
      "Requirement already satisfied: pyarrow>=15.0.0 in /Users/kevin/Desktop/NLP_IW/venv/lib/python3.12/site-packages (from datasets) (17.0.0)\n",
      "Requirement already satisfied: dill<0.3.9,>=0.3.0 in /Users/kevin/Desktop/NLP_IW/venv/lib/python3.12/site-packages (from datasets) (0.3.8)\n",
      "Requirement already satisfied: pandas in /Users/kevin/Desktop/NLP_IW/venv/lib/python3.12/site-packages (from datasets) (2.2.2)\n",
      "Requirement already satisfied: requests>=2.32.2 in /Users/kevin/Desktop/NLP_IW/venv/lib/python3.12/site-packages (from datasets) (2.32.3)\n",
      "Requirement already satisfied: tqdm>=4.66.3 in /Users/kevin/Desktop/NLP_IW/venv/lib/python3.12/site-packages (from datasets) (4.66.5)\n",
      "Requirement already satisfied: xxhash in /Users/kevin/Desktop/NLP_IW/venv/lib/python3.12/site-packages (from datasets) (3.5.0)\n",
      "Requirement already satisfied: multiprocess in /Users/kevin/Desktop/NLP_IW/venv/lib/python3.12/site-packages (from datasets) (0.70.16)\n",
      "Requirement already satisfied: fsspec<=2024.6.1,>=2023.1.0 in /Users/kevin/Desktop/NLP_IW/venv/lib/python3.12/site-packages (from fsspec[http]<=2024.6.1,>=2023.1.0->datasets) (2024.6.1)\n",
      "Requirement already satisfied: aiohttp in /Users/kevin/Desktop/NLP_IW/venv/lib/python3.12/site-packages (from datasets) (3.10.5)\n",
      "Requirement already satisfied: huggingface-hub>=0.22.0 in /Users/kevin/Desktop/NLP_IW/venv/lib/python3.12/site-packages (from datasets) (0.24.7)\n",
      "Requirement already satisfied: packaging in /Users/kevin/Desktop/NLP_IW/venv/lib/python3.12/site-packages (from datasets) (24.1)\n",
      "Requirement already satisfied: pyyaml>=5.1 in /Users/kevin/Desktop/NLP_IW/venv/lib/python3.12/site-packages (from datasets) (6.0.2)\n",
      "Requirement already satisfied: aiohappyeyeballs>=2.3.0 in /Users/kevin/Desktop/NLP_IW/venv/lib/python3.12/site-packages (from aiohttp->datasets) (2.4.0)\n",
      "Requirement already satisfied: aiosignal>=1.1.2 in /Users/kevin/Desktop/NLP_IW/venv/lib/python3.12/site-packages (from aiohttp->datasets) (1.3.1)\n",
      "Requirement already satisfied: attrs>=17.3.0 in /Users/kevin/Desktop/NLP_IW/venv/lib/python3.12/site-packages (from aiohttp->datasets) (24.2.0)\n",
      "Requirement already satisfied: frozenlist>=1.1.1 in /Users/kevin/Desktop/NLP_IW/venv/lib/python3.12/site-packages (from aiohttp->datasets) (1.4.1)\n",
      "Requirement already satisfied: multidict<7.0,>=4.5 in /Users/kevin/Desktop/NLP_IW/venv/lib/python3.12/site-packages (from aiohttp->datasets) (6.1.0)\n",
      "Requirement already satisfied: yarl<2.0,>=1.0 in /Users/kevin/Desktop/NLP_IW/venv/lib/python3.12/site-packages (from aiohttp->datasets) (1.11.1)\n",
      "Requirement already satisfied: typing-extensions>=3.7.4.3 in /Users/kevin/Desktop/NLP_IW/venv/lib/python3.12/site-packages (from huggingface-hub>=0.22.0->datasets) (4.12.2)\n",
      "Requirement already satisfied: charset-normalizer<4,>=2 in /Users/kevin/Desktop/NLP_IW/venv/lib/python3.12/site-packages (from requests>=2.32.2->datasets) (3.3.2)\n",
      "Requirement already satisfied: idna<4,>=2.5 in /Users/kevin/Desktop/NLP_IW/venv/lib/python3.12/site-packages (from requests>=2.32.2->datasets) (2.10)\n",
      "Requirement already satisfied: urllib3<3,>=1.21.1 in /Users/kevin/Desktop/NLP_IW/venv/lib/python3.12/site-packages (from requests>=2.32.2->datasets) (2.2.3)\n",
      "Requirement already satisfied: certifi>=2017.4.17 in /Users/kevin/Desktop/NLP_IW/venv/lib/python3.12/site-packages (from requests>=2.32.2->datasets) (2024.8.30)\n",
      "Requirement already satisfied: python-dateutil>=2.8.2 in /Users/kevin/Desktop/NLP_IW/venv/lib/python3.12/site-packages (from pandas->datasets) (2.9.0.post0)\n",
      "Requirement already satisfied: pytz>=2020.1 in /Users/kevin/Desktop/NLP_IW/venv/lib/python3.12/site-packages (from pandas->datasets) (2024.2)\n",
      "Requirement already satisfied: tzdata>=2022.7 in /Users/kevin/Desktop/NLP_IW/venv/lib/python3.12/site-packages (from pandas->datasets) (2024.1)\n",
      "Requirement already satisfied: six>=1.5 in /Users/kevin/Desktop/NLP_IW/venv/lib/python3.12/site-packages (from python-dateutil>=2.8.2->pandas->datasets) (1.16.0)\n"
     ]
    }
   ],
   "source": [
    "!pip install datasets"
   ]
  },
  {
   "cell_type": "code",
   "execution_count": 8,
   "metadata": {},
   "outputs": [],
   "source": [
    "# After this is ran it is cached!\n",
    "# Premilinary plan is to store this in a\n",
    "\n",
    "from datasets import load_dataset\n",
    "\n",
    "ds = load_dataset(\"hchautran/vietnamese-wiki-segmented\")"
   ]
  },
  {
   "cell_type": "code",
   "execution_count": 3,
   "metadata": {},
   "outputs": [
    {
     "name": "stdout",
     "output_type": "stream",
     "text": [
      "DatasetDict({\n",
      "    train: Dataset({\n",
      "        features: ['segmented_text', 'segmented_title'],\n",
      "        num_rows: 1273469\n",
      "    })\n",
      "})\n"
     ]
    }
   ],
   "source": [
    "# Prints dataset information\n",
    "print(ds)"
   ]
  },
  {
   "cell_type": "code",
   "execution_count": 49,
   "metadata": {},
   "outputs": [
    {
     "name": "stderr",
     "output_type": "stream",
     "text": [
      "4405.47s - pydevd: Sending message related to process being replaced timed-out after 5 seconds\n"
     ]
    },
    {
     "name": "stdout",
     "output_type": "stream",
     "text": [
      "Collecting deep-translator\n",
      "  Downloading deep_translator-1.11.4-py3-none-any.whl.metadata (30 kB)\n",
      "Collecting beautifulsoup4<5.0.0,>=4.9.1 (from deep-translator)\n",
      "  Downloading beautifulsoup4-4.12.3-py3-none-any.whl.metadata (3.8 kB)\n",
      "Requirement already satisfied: requests<3.0.0,>=2.23.0 in /Users/kevin/Desktop/NLP_IW/venv/lib/python3.12/site-packages (from deep-translator) (2.32.3)\n",
      "Collecting soupsieve>1.2 (from beautifulsoup4<5.0.0,>=4.9.1->deep-translator)\n",
      "  Downloading soupsieve-2.6-py3-none-any.whl.metadata (4.6 kB)\n",
      "Requirement already satisfied: charset-normalizer<4,>=2 in /Users/kevin/Desktop/NLP_IW/venv/lib/python3.12/site-packages (from requests<3.0.0,>=2.23.0->deep-translator) (3.3.2)\n",
      "Requirement already satisfied: idna<4,>=2.5 in /Users/kevin/Desktop/NLP_IW/venv/lib/python3.12/site-packages (from requests<3.0.0,>=2.23.0->deep-translator) (2.10)\n",
      "Requirement already satisfied: urllib3<3,>=1.21.1 in /Users/kevin/Desktop/NLP_IW/venv/lib/python3.12/site-packages (from requests<3.0.0,>=2.23.0->deep-translator) (2.2.3)\n",
      "Requirement already satisfied: certifi>=2017.4.17 in /Users/kevin/Desktop/NLP_IW/venv/lib/python3.12/site-packages (from requests<3.0.0,>=2.23.0->deep-translator) (2024.8.30)\n",
      "Downloading deep_translator-1.11.4-py3-none-any.whl (42 kB)\n",
      "Downloading beautifulsoup4-4.12.3-py3-none-any.whl (147 kB)\n",
      "Downloading soupsieve-2.6-py3-none-any.whl (36 kB)\n",
      "Installing collected packages: soupsieve, beautifulsoup4, deep-translator\n",
      "Successfully installed beautifulsoup4-4.12.3 deep-translator-1.11.4 soupsieve-2.6\n"
     ]
    }
   ],
   "source": [
    "!pip install deep-translator"
   ]
  },
  {
   "cell_type": "code",
   "execution_count": 62,
   "metadata": {},
   "outputs": [
    {
     "name": "stdout",
     "output_type": "stream",
     "text": [
      "-----------------------------------------------------------------------------------------\n",
      "Vietnamese text:\n",
      "Automolis ochreogaster Automolis ochreogaster là một loài bướm đêm thuộc phân họ Arctiinae họ Erebidae\n",
      "-----------------------------------------------------------------------------------------\n",
      "English text:\n",
      "Automolis ochreogaster Automolis ochreogaster is a moth of the subfamily Arctiinae of the family Erebidae.\n",
      "-----------------------------------------------------------------------------------------\n",
      "\n",
      "\n",
      "-----------------------------------------------------------------------------------------\n",
      "Vietnamese text:\n",
      "Sparedrus alesivani Sparedrus alesivani là một loài bọ cánh_cứng trong họ Oedemeridae_Loài này được Švihla miêu_tả khoa_học năm 2006\n",
      "-----------------------------------------------------------------------------------------\n",
      "English text:\n",
      "Sparedrus alesivani Sparedrus alesivani is a species of beetle in the family Oedemeridae. It was described by Švihla in 2006.\n",
      "-----------------------------------------------------------------------------------------\n",
      "\n",
      "\n",
      "-----------------------------------------------------------------------------------------\n",
      "Vietnamese text:\n",
      "Laniarius mufumbiri Laniarius mufumbiri là một loài chim trong họ Malaconotidae\n",
      "-----------------------------------------------------------------------------------------\n",
      "English text:\n",
      "Laniarius mufumbiri Laniarius mufumbiri is a species of bird in the family Malaconotidae.\n",
      "-----------------------------------------------------------------------------------------\n",
      "\n",
      "\n",
      "-----------------------------------------------------------------------------------------\n",
      "Vietnamese text:\n",
      "Rhodoleptus comis Rhodoleptus comis là một loài bọ cánh_cứng trong họ Cerambycidae\n",
      "-----------------------------------------------------------------------------------------\n",
      "English text:\n",
      "Rhodoleptus comis Rhodoleptus comis is a species of beetle in the family Cerambycidae.\n",
      "-----------------------------------------------------------------------------------------\n",
      "\n",
      "\n",
      "-----------------------------------------------------------------------------------------\n",
      "Vietnamese text:\n",
      "Khướu_Kon_Ka_Kinh Khướu_Kon_Ka_Kinh danh_pháp hai phần Garrulax konkakinhensis là một loài chim trong họ Timaliidae_Nó được tìm thấy tại khu_vực núi Kon_Ka_Kinh tỉnh Gia_Lai Việt_Nam nhưng cũng có_thể có tại Lào Môi_trường sống tự_nhiên của nó là miền núi cao nhiệt_đới hay cận_nhiệt_đới ẩm_ướt Nó bị đe_doạ do mất môi_trường sống Xem thêm BULLET Danh_sách các loài chim Việt_Nam Nguồn BULLET BirdLife_International 2008 Garrulax konkakinhensis tại 2006 IUCN Red_List of Threatened_Species_Truy cập 29 5 2009 BULLET Khướu_Kon_Ka_Kinh trên birdlife org\n",
      "-----------------------------------------------------------------------------------------\n",
      "English text:\n",
      "Konka Kinh Babbler Konka Kinh Babbler binomial name Garrulax konkakinhensis is a bird in the family Timaliidae. It is found in the Konka Kinh mountain area of ​​Gia Lai province, Vietnam but may also occur in Laos. Its natural habitat is tropical or subtropical humid highlands. It is threatened by habitat loss. See also BULLET List of birds of Vietnam Source BULLET BirdLife International 2008 Garrulax konkakinhensis at 2006 IUCN Red List of Threatened Species. Accessed 29 May 2009 BULLET Konka Kinh Babbler on birdlife org\n",
      "-----------------------------------------------------------------------------------------\n",
      "\n",
      "\n",
      "-----------------------------------------------------------------------------------------\n",
      "Vietnamese text:\n",
      "Happy_Birthday phim_truyền_hình Happy_Birthday là một bộ phim_truyền_hình Thái_Lan phát_sóng năm 2018 với sự tham_gia của Puttichai_Kasetsin_Push_Lapassalan Jiravechsoontornkul_Mild và Purim_Rattanaruangwattana_Pluem_Bộ phim được đạo_diễn bởi Kanittha_Kwunyoo và sản_xuất bởi GMMTV và Nar ra tor Đây là một trong mười dự_án phim_truyền_hình cho năm 2018 được GMMTV giới_thiệu trong sự_kiện Series_X vào ngày 1 tháng 2 năm 2018 Bộ phim được phát_sóng vào lúc 20 30 Chủ_nhật trên GMM 25 và phát lại vào 22 30 ICT cùng ngày trên LINE TV bắt_đầu từ ngày 7 tháng 10 năm 2018 Bộ phim kết_thúc vào ngày 30 tháng 12 năm 2018 Diễn_viên Dưới đây là dàn diễn_viên của bộ phim Diễn_viên chính BULLET Puttichai_Kasetsin_Push vai Tee_BULLET_Lapassalan_Jiravechsoontornkul Mild vai Thannam_BULLET_Purim_Rattanaruangwattana Pluem vai Tonmai_Diễn_viên phụ BULLET Ployshompoo_Supasap_Jan vai Noinha_BULLET_Thanaboon_Wanlopsirinun Na vai Phana_BULLET_Pronpiphat_Pattanasettanon Plustor vai Tee trẻ BULLET Wachirawit_Ruangwiwat_Chimon vai Phana trẻ BULLET Santisuk_Promsiri_Noom vai Chayt_BULLET_Suangsuda_Lawanprasert Namfon vai Orn_BULLET_Sorapong_Chatree vai chú Tai_BULLET_Kalaya_Lerdkasemsub Ngek vai Wan_BULLET_Daraneenuch_Pohpiti Top vai Mae_Pueng_BULLET_Korn Khunatipapisiri_Ouajun vai Top_BULLET_Alice_Tsoi Alice vai Jane_BULLET_Inthira_Yeunyong vai Due_BULLET_Sukol_Sasijulaka Jome vai Prat_BULLET_Kittipat_Chalarak Golf vai Lukgolf_BULLET_Achita_Sikamana Im vai Chymphy_Khách mời BULLET Nachat_Jantapan_Nicky vai người phỏng_vấn Tập 2 BULLET Leo_Saussay vai người phỏng_vấn Tập 2 BULLET Prachaya_Ruangroj_Singto vai Singto_Chính mình Tập 3 BULLET Perawat_Sangpotirat_Krist vai Krist_Chính mình Tập 3 BULLET Watchara_Sukchum_Jennie vai Jennie_Chính mình Tập 3 BULLET Jirakit_Thawornwong_Mek vai Puen\n",
      "-----------------------------------------------------------------------------------------\n",
      "English text:\n",
      "Happy_Birthday TV series Happy_Birthday is a 2018 Thai television series starring Puttichai_Kasetsin_Push_Lapassalan Jiravechsoontornkul_Mild and Purim_Rattanaruangwattana_Pluem. The series is directed by Kanittha_Kwunyoo and produced by GMMTV and Nar ra tor. It is one of ten television series projects for 2018 introduced by GMMTV during the Series_X event on 1 February 2018. The series aired on Sundays at 20:30 on GMM 25 and rebroadcast on 22:30 ICT on the same day on LINE TV starting from 7 October 2018. The series ended on 30 December 2018. 2018 Cast Here is the cast of the movie Main cast BULLET Puttichai_Kasetsin_Push as Tee_BULLET_Lapassalan_Jiravechsoontornkul Mild as Thannam_BULLET_Purim_Rattanaruangwattana Pluem as Tonmai_Supporting cast BULLET Ployshompoo_Supasap_Jan as Noinha_BULLET_Thanaboon_Wanlopsirinun Na as Phana_BULLET_Pronpiphat_Pattanasettanon Plustor as young Tee BULLET Wachirawit_Ruangwiwat_Chimon as young Phana BULLET Santisuk_Promsiri_Noom as Chayt_BULLET_Suangsuda_Lawanprasert Namfon as Orn_BULLET_Sorapong_Chatree as Uncle Tai_BULLET_Kalaya_Lerdkasemsub Ngek as Wan_BULLET_Daraneenuch_Pohpiti Top as Mae_Pueng_BULLET_Korn Khunatipapisiri_Ouajun as Top_BULLET_Alice_Tsoi Alice as Jane_BULLET_Inthira_Yeunyong as Due_BULLET_Sukol_Sasijulaka Jome as Prat_BULLET_Kittipat_Chalarak Golf as Lukgolf_BULLET_Achita_Sikamana Im as Chymphy_Guest BULLET Nachat_Jantapan_Nicky as interviewer Episode 2 BULLET Leo_Saussay as interviewer Episode 2 BULLET Prachaya_Ruangroj_Singto as Singto_Myself Episode 3 BULLET Perawat_Sangpotirat_Krist as Krist_Myself Episode 3 BULLET Watchara_Sukchum_Jennie as Jennie_Myself Episode 3 BULLET Jirakit_Thawornwong_Mek as Puen\n",
      "-----------------------------------------------------------------------------------------\n",
      "\n",
      "\n",
      "-----------------------------------------------------------------------------------------\n",
      "Vietnamese text:\n",
      "Giải quần_vợt Pháp Mở_rộng 2002 Đơn nữ Serena_Williams đánh_bại người chị Venus_Williams trong trận chung_kết 7 5 6 3 để giành chức vô_địch Đơn nữ tại Giải quần_vợt Pháp Mở_rộng 2002 Đây cũng là bước đệm đầu_tiên giúp cô hoàn_thành đầu_tiên Jennifer_Capriati là đương_kim vô_địch tuy_nhiên thất_bại trước Serena_Williams ở bán_kết trong lần tái_hiện trận tứ_kết của năm trước Đáng chú_ý đây là kì Grand_Slam đầu_tiên của tay_vợt số 2 thế_giới trong tương_lai Vera_Zvonareva_She drew Serena_Williams ở vòng bốn và was defeated Liên_kết ngoài BULLET Giải quần_vợt Pháp Mở_rộng 2002 on ITFtennis com nguồn kết_quả\n",
      "-----------------------------------------------------------------------------------------\n",
      "English text:\n",
      "2002 French Open Women's Singles Serena Williams defeated her sister Venus Williams in the final 7 5 6 3 to win the Women's Singles title at the 2002 French Open This was also the first stepping stone to help her complete her first Jennifer Capriati was the defending champion but lost to Serena Williams in the semi-finals in a rematch of the previous year's quarter-final Notably this was the first Grand Slam for future world number 2 Vera Zvonareva She drew Serena Williams in the fourth round and was defeated External links BULLET 2002 French Open on ITFtennis com result source\n",
      "-----------------------------------------------------------------------------------------\n",
      "\n",
      "\n",
      "-----------------------------------------------------------------------------------------\n",
      "Vietnamese text:\n",
      "Hesperomeles_Hesperomeles là một chi thực_vật có hoa trong họ Hoa_hồng\n",
      "-----------------------------------------------------------------------------------------\n",
      "English text:\n",
      "Hesperomeles_Hesperomeles is a genus of flowering plants in the family Rosaceae.\n",
      "-----------------------------------------------------------------------------------------\n",
      "\n",
      "\n",
      "-----------------------------------------------------------------------------------------\n",
      "Vietnamese text:\n",
      "Guineapolemius ingeae Guineapolemius ingeae là một loài bọ cánh_cứng trong họ Cantharidae_Loài này được Wittmer miêu_tả khoa_học năm 1969\n",
      "-----------------------------------------------------------------------------------------\n",
      "English text:\n",
      "Guineapolemius ingeae Guineapolemius ingeae is a species of beetle in the family Cantharidae. It was described by Wittmer in 1969.\n",
      "-----------------------------------------------------------------------------------------\n",
      "\n",
      "\n",
      "-----------------------------------------------------------------------------------------\n",
      "Vietnamese text:\n",
      "Eriocaulon lanatum Eriocaulon lanatum là một loài thực_vật có hoa trong họ Cỏ dùi trống Loài này được H E Hess mô_tả khoa_học đầu_tiên năm 1955\n",
      "-----------------------------------------------------------------------------------------\n",
      "English text:\n",
      "Eriocaulon lanatum Eriocaulon lanatum is a species of flowering plant in the family Drumstickaceae. This species was first scientifically described by H E Hess in 1955.\n",
      "-----------------------------------------------------------------------------------------\n",
      "\n",
      "\n"
     ]
    }
   ],
   "source": [
    "from deep_translator import GoogleTranslator\n",
    "\n",
    "for example in ds['train'].shuffle().select([0, 1, 2, 3, 4, 5, 6, 7, 8, 9]):\n",
    "    print(\"-----------------------------------------------------------------------------------------\")\n",
    "    print(\"Vietnamese text:\")\n",
    "    print(example['segmented_text'])\n",
    "    print(\"-----------------------------------------------------------------------------------------\")\n",
    "    print(\"English text:\")\n",
    "    print(GoogleTranslator(source='auto', target='en').translate(example['segmented_text']))\n",
    "    print(\"-----------------------------------------------------------------------------------------\")\n",
    "    print()\n",
    "    print()\n"
   ]
  }
 ],
 "metadata": {
  "kernelspec": {
   "display_name": "venv",
   "language": "python",
   "name": "python3"
  },
  "language_info": {
   "codemirror_mode": {
    "name": "ipython",
    "version": 3
   },
   "file_extension": ".py",
   "mimetype": "text/x-python",
   "name": "python",
   "nbconvert_exporter": "python",
   "pygments_lexer": "ipython3",
   "version": "3.12.5 (v3.12.5:ff3bc82f7c9, Aug  7 2024, 05:32:06) [Clang 13.0.0 (clang-1300.0.29.30)]"
  },
  "orig_nbformat": 4,
  "vscode": {
   "interpreter": {
    "hash": "30dbc32ac0fdcfb5c70926eb6608010259a5972770b4a0fe815f6fda84b0e3ba"
   }
  }
 },
 "nbformat": 4,
 "nbformat_minor": 2
}
